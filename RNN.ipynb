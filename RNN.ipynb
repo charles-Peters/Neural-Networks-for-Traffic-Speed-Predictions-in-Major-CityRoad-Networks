{
 "cells": [
  {
   "cell_type": "code",
   "execution_count": 1,
   "metadata": {},
   "outputs": [],
   "source": [
    "import glob\n",
    "import os\n",
    "from bs4 import BeautifulSoup\n",
    "from xml.etree.ElementTree import XML, fromstring, tostring\n",
    "from xml.dom import minidom\n",
    "from matplotlib import pyplot as plt\n",
    "import matplotlib.cm as cm\n",
    "from matplotlib import colors as c\n",
    "import pandas as pd\n",
    "import numpy as np\n",
    "import tensorflow as tf\n",
    "from tensorflow import keras\n",
    "from tensorflow.keras.preprocessing.image import ImageDataGenerator\n",
    "from tensorflow.keras import layers\n",
    "from tensorflow.keras.layers import LSTM, Dropout, Dense, Activation\n",
    "from datetime import datetime\n",
    "from sklearn.preprocessing import LabelEncoder\n",
    "from sklearn.preprocessing import MinMaxScaler\n",
    "from sklearn.metrics import mean_squared_error\n",
    "from math import sqrt\n",
    "import numpy as np"
   ]
  },
  {
   "cell_type": "markdown",
   "metadata": {},
   "source": [
    "# Data Extraction\n",
    "\n",
    "Data is extracted from xml files.\n",
    "\n",
    "#### NOTE: If using csv dataframes rather than xml files, this stage of code can be skipped."
   ]
  },
  {
   "cell_type": "code",
   "execution_count": 10,
   "metadata": {},
   "outputs": [],
   "source": [
    "# I made a file with all the data I used in my model. These xml files are collected from 16 consecutive days.\n",
    "os.chdir(f'{os.getcwd()}\\Documents\\Summer Project')\n",
    "file_list = glob.glob(os.path.join(f\"{os.getcwd()}\\\\training_files\", \"*.xml\"))  "
   ]
  },
  {
   "cell_type": "code",
   "execution_count": 11,
   "metadata": {},
   "outputs": [],
   "source": [
    "# same for files to be used for validation\n",
    "test_file_list = glob.glob(os.path.join(f\"{os.getcwd()}\\\\test_files\", \"*.xml\"))  "
   ]
  },
  {
   "cell_type": "code",
   "execution_count": 13,
   "metadata": {},
   "outputs": [],
   "source": [
    "# This cell is where I extract all the relevant information from the xml files.\n",
    "all_speeds = []\n",
    "all_free_flows = []\n",
    "all_roads = []\n",
    "times = []\n",
    "jamming_factors = []\n",
    "for file in file_list:\n",
    "    f = open(file, \"r\")\n",
    "    raw = f.read()\n",
    "    soup = BeautifulSoup(raw, 'lxml')\n",
    "    roads = soup.find_all('fi')\n",
    "    for i in roads:\n",
    "        attribs = []\n",
    "        times.append(file[55:78])\n",
    "        for child in fromstring(str(i)):\n",
    "            attribs.append(child.attrib)\n",
    "        if 'de' in attribs[0]:\n",
    "            all_roads.append(attribs[0]['de'])\n",
    "        if 'su' in attribs[-1]:\n",
    "            all_speeds.append(attribs[-1]['su'])\n",
    "        if 'ff' in attribs[-1]:\n",
    "            all_free_flows.append(attribs[-1]['ff'])\n",
    "        if 'jf' in attribs[-1]:\n",
    "            jamming_factors.append(attribs[-1]['jf'])\n",
    "        if 'de' not in attribs[0]:\n",
    "            all_roads.append('NA')\n",
    "        if 'su' not in attribs[-1]:\n",
    "            all_speeds.append(0)\n",
    "        if 'ff' not in attribs[-1]:\n",
    "            all_free_flows.append(0)\n",
    "        if 'jf' not in attribs[-1]:\n",
    "            jamming_facotrs.append('NA')"
   ]
  },
  {
   "cell_type": "code",
   "execution_count": 14,
   "metadata": {},
   "outputs": [],
   "source": [
    "# This cell is where I extract all the relevant information from the xml files.\n",
    "all_speeds_test = []\n",
    "all_free_flows_test = []\n",
    "all_roads_test = []\n",
    "times_test = []\n",
    "for file in test_file_list:\n",
    "    f = open(file, \"r\")\n",
    "    raw = f.read()\n",
    "    soup = BeautifulSoup(raw, 'lxml')\n",
    "    roads = soup.find_all('fi')\n",
    "    for i in roads:\n",
    "        attribs = []\n",
    "        times_test.append(file[51:76])\n",
    "        for child in fromstring(str(i)):\n",
    "            attribs.append(child.attrib)\n",
    "        if 'de' in attribs[0]:\n",
    "            all_roads_test.append(attribs[0]['de'])\n",
    "        if 'su' in attribs[-1]:\n",
    "            all_speeds_test.append(attribs[-1]['su'])\n",
    "        if 'ff' in attribs[-1]:\n",
    "            all_free_flows_test.append(attribs[-1]['ff'])\n",
    "        if 'de' not in attribs[0]:\n",
    "            all_roads_test.append('NA')\n",
    "        if 'su' not in attribs[-1]:\n",
    "            all_speeds_test.append(0)\n",
    "        if 'ff' not in attribs[-1]:\n",
    "            all_free_flows_test.append(0)"
   ]
  },
  {
   "cell_type": "code",
   "execution_count": 16,
   "metadata": {},
   "outputs": [],
   "source": [
    "time_objects = []\n",
    "for t in times:\n",
    "    time_objects.append(datetime.strptime(f'{t[:(-4)]}', '%Y-%m-%d_%H;%M;%S'))\n",
    "\n",
    "time_objects_test = []\n",
    "for t in times_test:\n",
    "    time_objects_test.append(datetime.strptime(f'{t[:(-6)]}', '%Y-%m-%d_%H;%M;%S'))"
   ]
  },
  {
   "cell_type": "code",
   "execution_count": 17,
   "metadata": {},
   "outputs": [],
   "source": [
    "# Made a list which contains the weekday for each instance. This is used for when we start including the weekday information in our neural network.\n",
    "weekdays = []\n",
    "for d in time_objects:\n",
    "    weekdays.append(d.weekday())\n",
    "\n",
    "weekdays_test = []\n",
    "for d in time_objects_test:\n",
    "    weekdays_test.append(d.weekday())"
   ]
  },
  {
   "cell_type": "code",
   "execution_count": 32,
   "metadata": {},
   "outputs": [],
   "source": [
    "# Created a dataframe from the scraped info. \n",
    "df = pd.DataFrame({'time':time_objects, 'weekday':weekdays,'road name':all_roads,'speeds':all_speeds,'free flow speeds':all_free_flows})\n",
    "df.to_csv('training_dataframe.csv')"
   ]
  },
  {
   "cell_type": "code",
   "execution_count": null,
   "metadata": {},
   "outputs": [],
   "source": [
    "df2 = pd.DataFrame({'time':time_objects_test, 'weekday':weekdays_test,'road name':all_roads_test,'speeds':all_speeds_test,'free flow speeds':all_free_flows_test})\n",
    "df2.to_csv('testing_dataframe.csv')"
   ]
  },
  {
   "cell_type": "markdown",
   "metadata": {},
   "source": [
    "# Inputs for RNNs"
   ]
  },
  {
   "cell_type": "code",
   "execution_count": 33,
   "metadata": {},
   "outputs": [
    {
     "data": {
      "text/html": [
       "<div>\n",
       "<style scoped>\n",
       "    .dataframe tbody tr th:only-of-type {\n",
       "        vertical-align: middle;\n",
       "    }\n",
       "\n",
       "    .dataframe tbody tr th {\n",
       "        vertical-align: top;\n",
       "    }\n",
       "\n",
       "    .dataframe thead th {\n",
       "        text-align: right;\n",
       "    }\n",
       "</style>\n",
       "<table border=\"1\" class=\"dataframe\">\n",
       "  <thead>\n",
       "    <tr style=\"text-align: right;\">\n",
       "      <th></th>\n",
       "      <th>Unnamed: 0</th>\n",
       "      <th>time</th>\n",
       "      <th>weekday</th>\n",
       "      <th>road name</th>\n",
       "      <th>speeds</th>\n",
       "      <th>free flow speeds</th>\n",
       "    </tr>\n",
       "  </thead>\n",
       "  <tbody>\n",
       "    <tr>\n",
       "      <td>0</td>\n",
       "      <td>0</td>\n",
       "      <td>2020-06-24 00:02:02</td>\n",
       "      <td>2</td>\n",
       "      <td>Radford</td>\n",
       "      <td>37.00</td>\n",
       "      <td>37.0</td>\n",
       "    </tr>\n",
       "    <tr>\n",
       "      <td>1</td>\n",
       "      <td>1</td>\n",
       "      <td>2020-06-24 00:02:02</td>\n",
       "      <td>2</td>\n",
       "      <td>Radford</td>\n",
       "      <td>37.84</td>\n",
       "      <td>38.1</td>\n",
       "    </tr>\n",
       "    <tr>\n",
       "      <td>2</td>\n",
       "      <td>2</td>\n",
       "      <td>2020-06-24 00:02:02</td>\n",
       "      <td>2</td>\n",
       "      <td>Bilborough</td>\n",
       "      <td>41.36</td>\n",
       "      <td>40.0</td>\n",
       "    </tr>\n",
       "    <tr>\n",
       "      <td>3</td>\n",
       "      <td>3</td>\n",
       "      <td>2020-06-24 00:02:02</td>\n",
       "      <td>2</td>\n",
       "      <td>Bilborough</td>\n",
       "      <td>28.00</td>\n",
       "      <td>31.6</td>\n",
       "    </tr>\n",
       "    <tr>\n",
       "      <td>4</td>\n",
       "      <td>4</td>\n",
       "      <td>2020-06-24 00:02:02</td>\n",
       "      <td>2</td>\n",
       "      <td>Radford</td>\n",
       "      <td>37.11</td>\n",
       "      <td>40.3</td>\n",
       "    </tr>\n",
       "    <tr>\n",
       "      <td>...</td>\n",
       "      <td>...</td>\n",
       "      <td>...</td>\n",
       "      <td>...</td>\n",
       "      <td>...</td>\n",
       "      <td>...</td>\n",
       "      <td>...</td>\n",
       "    </tr>\n",
       "    <tr>\n",
       "      <td>619771</td>\n",
       "      <td>619771</td>\n",
       "      <td>2020-07-10 00:24:01</td>\n",
       "      <td>4</td>\n",
       "      <td>Nottingham</td>\n",
       "      <td>37.32</td>\n",
       "      <td>31.7</td>\n",
       "    </tr>\n",
       "    <tr>\n",
       "      <td>619772</td>\n",
       "      <td>619772</td>\n",
       "      <td>2020-07-10 00:24:01</td>\n",
       "      <td>4</td>\n",
       "      <td>Wilford</td>\n",
       "      <td>48.56</td>\n",
       "      <td>54.6</td>\n",
       "    </tr>\n",
       "    <tr>\n",
       "      <td>619773</td>\n",
       "      <td>619773</td>\n",
       "      <td>2020-07-10 00:24:01</td>\n",
       "      <td>4</td>\n",
       "      <td>M1 Interchange J24</td>\n",
       "      <td>75.57</td>\n",
       "      <td>79.1</td>\n",
       "    </tr>\n",
       "    <tr>\n",
       "      <td>619774</td>\n",
       "      <td>619774</td>\n",
       "      <td>2020-07-10 00:24:01</td>\n",
       "      <td>4</td>\n",
       "      <td>Wilford</td>\n",
       "      <td>72.90</td>\n",
       "      <td>82.8</td>\n",
       "    </tr>\n",
       "    <tr>\n",
       "      <td>619775</td>\n",
       "      <td>619775</td>\n",
       "      <td>2020-07-10 00:24:01</td>\n",
       "      <td>4</td>\n",
       "      <td>Nottingham</td>\n",
       "      <td>46.55</td>\n",
       "      <td>52.1</td>\n",
       "    </tr>\n",
       "  </tbody>\n",
       "</table>\n",
       "<p>619776 rows × 6 columns</p>\n",
       "</div>"
      ],
      "text/plain": [
       "        Unnamed: 0                 time  weekday           road name  speeds  \\\n",
       "0                0  2020-06-24 00:02:02        2             Radford   37.00   \n",
       "1                1  2020-06-24 00:02:02        2             Radford   37.84   \n",
       "2                2  2020-06-24 00:02:02        2          Bilborough   41.36   \n",
       "3                3  2020-06-24 00:02:02        2          Bilborough   28.00   \n",
       "4                4  2020-06-24 00:02:02        2             Radford   37.11   \n",
       "...            ...                  ...      ...                 ...     ...   \n",
       "619771      619771  2020-07-10 00:24:01        4          Nottingham   37.32   \n",
       "619772      619772  2020-07-10 00:24:01        4             Wilford   48.56   \n",
       "619773      619773  2020-07-10 00:24:01        4  M1 Interchange J24   75.57   \n",
       "619774      619774  2020-07-10 00:24:01        4             Wilford   72.90   \n",
       "619775      619775  2020-07-10 00:24:01        4          Nottingham   46.55   \n",
       "\n",
       "        free flow speeds  \n",
       "0                   37.0  \n",
       "1                   38.1  \n",
       "2                   40.0  \n",
       "3                   31.6  \n",
       "4                   40.3  \n",
       "...                  ...  \n",
       "619771              31.7  \n",
       "619772              54.6  \n",
       "619773              79.1  \n",
       "619774              82.8  \n",
       "619775              52.1  \n",
       "\n",
       "[619776 rows x 6 columns]"
      ]
     },
     "execution_count": 33,
     "metadata": {},
     "output_type": "execute_result"
    }
   ],
   "source": [
    "df = pd.read_csv('training_dataframe.csv')\n",
    "df"
   ]
  },
  {
   "cell_type": "code",
   "execution_count": 48,
   "metadata": {},
   "outputs": [
    {
     "data": {
      "text/html": [
       "<div>\n",
       "<style scoped>\n",
       "    .dataframe tbody tr th:only-of-type {\n",
       "        vertical-align: middle;\n",
       "    }\n",
       "\n",
       "    .dataframe tbody tr th {\n",
       "        vertical-align: top;\n",
       "    }\n",
       "\n",
       "    .dataframe thead th {\n",
       "        text-align: right;\n",
       "    }\n",
       "</style>\n",
       "<table border=\"1\" class=\"dataframe\">\n",
       "  <thead>\n",
       "    <tr style=\"text-align: right;\">\n",
       "      <th></th>\n",
       "      <th>Unnamed: 0</th>\n",
       "      <th>time</th>\n",
       "      <th>weekday</th>\n",
       "      <th>road name</th>\n",
       "      <th>speeds</th>\n",
       "      <th>free flow speeds</th>\n",
       "    </tr>\n",
       "  </thead>\n",
       "  <tbody>\n",
       "    <tr>\n",
       "      <td>0</td>\n",
       "      <td>0</td>\n",
       "      <td>2020-07-11 23:58:02</td>\n",
       "      <td>5</td>\n",
       "      <td>Radford</td>\n",
       "      <td>42.66</td>\n",
       "      <td>37.0</td>\n",
       "    </tr>\n",
       "    <tr>\n",
       "      <td>1</td>\n",
       "      <td>1</td>\n",
       "      <td>2020-07-11 23:58:02</td>\n",
       "      <td>5</td>\n",
       "      <td>Radford</td>\n",
       "      <td>37.02</td>\n",
       "      <td>38.1</td>\n",
       "    </tr>\n",
       "    <tr>\n",
       "      <td>2</td>\n",
       "      <td>2</td>\n",
       "      <td>2020-07-11 23:58:02</td>\n",
       "      <td>5</td>\n",
       "      <td>Bilborough</td>\n",
       "      <td>35.16</td>\n",
       "      <td>40.0</td>\n",
       "    </tr>\n",
       "    <tr>\n",
       "      <td>3</td>\n",
       "      <td>3</td>\n",
       "      <td>2020-07-11 23:58:02</td>\n",
       "      <td>5</td>\n",
       "      <td>Bilborough</td>\n",
       "      <td>25.66</td>\n",
       "      <td>31.6</td>\n",
       "    </tr>\n",
       "    <tr>\n",
       "      <td>4</td>\n",
       "      <td>4</td>\n",
       "      <td>2020-07-11 23:58:02</td>\n",
       "      <td>5</td>\n",
       "      <td>Radford</td>\n",
       "      <td>30.54</td>\n",
       "      <td>40.3</td>\n",
       "    </tr>\n",
       "    <tr>\n",
       "      <td>...</td>\n",
       "      <td>...</td>\n",
       "      <td>...</td>\n",
       "      <td>...</td>\n",
       "      <td>...</td>\n",
       "      <td>...</td>\n",
       "      <td>...</td>\n",
       "    </tr>\n",
       "    <tr>\n",
       "      <td>271147</td>\n",
       "      <td>271147</td>\n",
       "      <td>2020-07-19 00:02:10</td>\n",
       "      <td>6</td>\n",
       "      <td>Nottingham</td>\n",
       "      <td>28.00</td>\n",
       "      <td>31.7</td>\n",
       "    </tr>\n",
       "    <tr>\n",
       "      <td>271148</td>\n",
       "      <td>271148</td>\n",
       "      <td>2020-07-19 00:02:10</td>\n",
       "      <td>6</td>\n",
       "      <td>Wilford</td>\n",
       "      <td>51.90</td>\n",
       "      <td>54.6</td>\n",
       "    </tr>\n",
       "    <tr>\n",
       "      <td>271149</td>\n",
       "      <td>271149</td>\n",
       "      <td>2020-07-19 00:02:10</td>\n",
       "      <td>6</td>\n",
       "      <td>M1 Interchange J24</td>\n",
       "      <td>79.47</td>\n",
       "      <td>79.1</td>\n",
       "    </tr>\n",
       "    <tr>\n",
       "      <td>271150</td>\n",
       "      <td>271150</td>\n",
       "      <td>2020-07-19 00:02:10</td>\n",
       "      <td>6</td>\n",
       "      <td>Wilford</td>\n",
       "      <td>76.38</td>\n",
       "      <td>82.8</td>\n",
       "    </tr>\n",
       "    <tr>\n",
       "      <td>271151</td>\n",
       "      <td>271151</td>\n",
       "      <td>2020-07-19 00:02:10</td>\n",
       "      <td>6</td>\n",
       "      <td>Nottingham</td>\n",
       "      <td>52.48</td>\n",
       "      <td>52.1</td>\n",
       "    </tr>\n",
       "  </tbody>\n",
       "</table>\n",
       "<p>271152 rows × 6 columns</p>\n",
       "</div>"
      ],
      "text/plain": [
       "        Unnamed: 0                 time  weekday           road name  speeds  \\\n",
       "0                0  2020-07-11 23:58:02        5             Radford   42.66   \n",
       "1                1  2020-07-11 23:58:02        5             Radford   37.02   \n",
       "2                2  2020-07-11 23:58:02        5          Bilborough   35.16   \n",
       "3                3  2020-07-11 23:58:02        5          Bilborough   25.66   \n",
       "4                4  2020-07-11 23:58:02        5             Radford   30.54   \n",
       "...            ...                  ...      ...                 ...     ...   \n",
       "271147      271147  2020-07-19 00:02:10        6          Nottingham   28.00   \n",
       "271148      271148  2020-07-19 00:02:10        6             Wilford   51.90   \n",
       "271149      271149  2020-07-19 00:02:10        6  M1 Interchange J24   79.47   \n",
       "271150      271150  2020-07-19 00:02:10        6             Wilford   76.38   \n",
       "271151      271151  2020-07-19 00:02:10        6          Nottingham   52.48   \n",
       "\n",
       "        free flow speeds  \n",
       "0                   37.0  \n",
       "1                   38.1  \n",
       "2                   40.0  \n",
       "3                   31.6  \n",
       "4                   40.3  \n",
       "...                  ...  \n",
       "271147              31.7  \n",
       "271148              54.6  \n",
       "271149              79.1  \n",
       "271150              82.8  \n",
       "271151              52.1  \n",
       "\n",
       "[271152 rows x 6 columns]"
      ]
     },
     "execution_count": 48,
     "metadata": {},
     "output_type": "execute_result"
    }
   ],
   "source": [
    "df2 = pd.read_csv('testing_dataframe.csv')\n",
    "df2"
   ]
  },
  {
   "cell_type": "code",
   "execution_count": 46,
   "metadata": {},
   "outputs": [],
   "source": [
    "# free flow speeds are constant on each road so we only need to take the first set of free flow speeds from our extracted data.\n",
    "free_flows = df['free flow speeds'][:269]"
   ]
  },
  {
   "cell_type": "code",
   "execution_count": 47,
   "metadata": {},
   "outputs": [],
   "source": [
    "# Convert the information into a 269x2304 matrix (there are 269 road segments and 2304 timesteps).\n",
    "speeds_roads = np.zeros([269, len(file_list)])\n",
    "for road in range(269): \n",
    "    speeds_road = []\n",
    "    for i in range(len(file_list)):\n",
    "        speeds_road.append(df['speeds'][i*269 + road])\n",
    "    speeds_roads[road] = speeds_road\n",
    "speeds_roads = np.transpose(speeds_roads)"
   ]
  },
  {
   "cell_type": "code",
   "execution_count": 49,
   "metadata": {},
   "outputs": [],
   "source": [
    "# Same is done for the test set.\n",
    "speeds_roads_test = np.zeros([269,len(test_file_list)])\n",
    "for road in range(269): \n",
    "    speeds_road_test = []\n",
    "    for i in range(len(test_file_list)):\n",
    "        speeds_road_test.append(df2['speeds'][i*len(roads) + road])\n",
    "    speeds_roads_test[road] = speeds_road_test\n",
    "speeds_roads_test = np.transpose(speeds_roads_test)"
   ]
  },
  {
   "cell_type": "code",
   "execution_count": 50,
   "metadata": {},
   "outputs": [],
   "source": [
    "# This function is used to split our matrix into inpouts and outputs. The input is the historical traffic data, and the output is the future reading we are attempting to predict.\n",
    "def split_sequence(sequence, n_steps):\n",
    "    X, y = list(), list()\n",
    "    for i in range(len(sequence)):\n",
    "        # find the end of this pattern\n",
    "        end_ix = i + n_steps\n",
    "        # check if we are beyond the sequence\n",
    "        if end_ix > len(sequence) - 1:\n",
    "            break\n",
    "        # gather input and output parts of the pattern\n",
    "        seq_x, seq_y = sequence[i:end_ix], sequence[end_ix]\n",
    "        X.append(seq_x)\n",
    "        y.append(seq_y)\n",
    "    return np.array(X), np.array(y)"
   ]
  },
  {
   "cell_type": "code",
   "execution_count": 51,
   "metadata": {},
   "outputs": [
    {
     "name": "stdout",
     "output_type": "stream",
     "text": [
      "(2268, 36, 269) (2268, 269)\n"
     ]
    }
   ],
   "source": [
    "# Split data into sequences of inputs and outputs depending on sequence length (36 time steps or 288 were used).\n",
    "\n",
    "#n_steps = 288\n",
    "n_steps = 36\n",
    "\n",
    "X, y = split_sequence(speeds_roads, n_steps)\n",
    "print(X.shape, y.shape)"
   ]
  },
  {
   "cell_type": "code",
   "execution_count": 52,
   "metadata": {},
   "outputs": [
    {
     "name": "stdout",
     "output_type": "stream",
     "text": [
      "(972, 36, 269) (972, 269)\n"
     ]
    }
   ],
   "source": [
    "# Same is done for test set\n",
    "\n",
    "X_test, y_test = split_sequence(speeds_roads_test, n_steps)\n",
    "print(X_test.shape, y_test.shape)\n"
   ]
  },
  {
   "cell_type": "code",
   "execution_count": 53,
   "metadata": {},
   "outputs": [],
   "source": [
    "# Training set is split further to produce a validation set used to prevent overfitting during training.\n",
    "\n",
    "train_X = X[:1700]\n",
    "train_y = y[:1700]\n",
    "test_X = X[1700:]\n",
    "test_y = y[1700:]"
   ]
  },
  {
   "cell_type": "markdown",
   "metadata": {},
   "source": [
    "# 2 layer LSTM"
   ]
  },
  {
   "cell_type": "code",
   "execution_count": 41,
   "metadata": {},
   "outputs": [
    {
     "name": "stdout",
     "output_type": "stream",
     "text": [
      "Model: \"sequential_2\"\n",
      "_________________________________________________________________\n",
      "Layer (type)                 Output Shape              Param #   \n",
      "=================================================================\n",
      "lstm_2 (LSTM)                (None, 36, 269)           579964    \n",
      "_________________________________________________________________\n",
      "lstm_3 (LSTM)                (None, 269)               579964    \n",
      "_________________________________________________________________\n",
      "dense_1 (Dense)              (None, 269)               72630     \n",
      "=================================================================\n",
      "Total params: 1,232,558\n",
      "Trainable params: 1,232,558\n",
      "Non-trainable params: 0\n",
      "_________________________________________________________________\n",
      "None\n"
     ]
    }
   ],
   "source": [
    "#define model\n",
    "model = tf.keras.Sequential()\n",
    "model.add(LSTM(269, input_shape=(n_steps, 269), dropout = 0.2, recurrent_dropout = 0.2, return_sequences = True))\n",
    "model.add(LSTM(269, input_shape=(n_steps, 269), dropout = 0.2, recurrent_dropout = 0.2))\n",
    "model.add(Dense(269))\n",
    "model.compile(loss='mse', optimizer='adam')\n",
    "print(model.summary())"
   ]
  },
  {
   "cell_type": "code",
   "execution_count": 42,
   "metadata": {},
   "outputs": [
    {
     "data": {
      "image/png": "[encoded data removed]",
      "text/plain": [
       "<IPython.core.display.Image object>"
      ]
     },
     "execution_count": 42,
     "metadata": {},
     "output_type": "execute_result"
    }
   ],
   "source": [
    "# model architecture\n",
    "tf.keras.utils.plot_model(model, show_shapes = True)"
   ]
  },
  {
   "cell_type": "code",
   "execution_count": 43,
   "metadata": {},
   "outputs": [
    {
     "name": "stdout",
     "output_type": "stream",
     "text": [
      "Train on 1700 samples, validate on 568 samples\n",
      "Epoch 1/50\n",
      "1700/1700 [==============================] - 23s 13ms/sample - loss: 1785.9121 - val_loss: 1164.3540\n",
      "Epoch 2/50\n",
      "1700/1700 [==============================] - 18s 10ms/sample - loss: 921.3957 - val_loss: 608.9915\n",
      "Epoch 3/50\n",
      "1700/1700 [==============================] - 18s 11ms/sample - loss: 499.4559 - val_loss: 340.1226\n",
      "Epoch 4/50\n",
      "1700/1700 [==============================] - 18s 11ms/sample - loss: 288.3726 - val_loss: 204.3630\n",
      "Epoch 5/50\n",
      "1700/1700 [==============================] - 18s 10ms/sample - loss: 177.2160 - val_loss: 131.4798\n",
      "Epoch 6/50\n",
      "1700/1700 [==============================] - 18s 11ms/sample - loss: 115.5453 - val_loss: 91.2347\n",
      "Epoch 7/50\n",
      "1700/1700 [==============================] - 18s 10ms/sample - loss: 80.6470 - val_loss: 68.9703\n",
      "Epoch 8/50\n",
      "1700/1700 [==============================] - 18s 10ms/sample - loss: 60.8265 - val_loss: 56.7341\n",
      "Epoch 9/50\n",
      "1700/1700 [==============================] - 18s 11ms/sample - loss: 49.6673 - val_loss: 50.2272\n",
      "Epoch 10/50\n",
      "1700/1700 [==============================] - 18s 11ms/sample - loss: 43.5025 - val_loss: 47.0326\n",
      "Epoch 11/50\n",
      "1700/1700 [==============================] - 18s 11ms/sample - loss: 40.1476 - val_loss: 45.4746\n",
      "Epoch 12/50\n",
      "1700/1700 [==============================] - 18s 10ms/sample - loss: 38.3792 - val_loss: 44.8735\n",
      "Epoch 13/50\n",
      "1700/1700 [==============================] - 18s 11ms/sample - loss: 37.4933 - val_loss: 44.6608\n",
      "Epoch 14/50\n",
      "1700/1700 [==============================] - 18s 10ms/sample - loss: 37.0480 - val_loss: 44.5195\n",
      "Epoch 15/50\n",
      "1700/1700 [==============================] - 18s 11ms/sample - loss: 36.8568 - val_loss: 44.4415\n",
      "Epoch 16/50\n",
      "1700/1700 [==============================] - 18s 11ms/sample - loss: 36.7533 - val_loss: 44.6142\n",
      "Epoch 17/50\n",
      "1700/1700 [==============================] - 18s 10ms/sample - loss: 36.7150 - val_loss: 44.6154\n",
      "Epoch 18/50\n",
      "1700/1700 [==============================] - 18s 10ms/sample - loss: 36.7092 - val_loss: 44.6854\n",
      "Epoch 19/50\n",
      "1700/1700 [==============================] - 18s 11ms/sample - loss: 36.6996 - val_loss: 44.5984\n",
      "Epoch 20/50\n",
      "1700/1700 [==============================] - 18s 11ms/sample - loss: 36.6908 - val_loss: 44.9720\n",
      "Epoch 21/50\n",
      "1700/1700 [==============================] - 18s 11ms/sample - loss: 36.6877 - val_loss: 44.8329\n",
      "Epoch 22/50\n",
      "1700/1700 [==============================] - 18s 11ms/sample - loss: 36.7071 - val_loss: 44.6903\n",
      "Epoch 23/50\n",
      "1700/1700 [==============================] - 18s 10ms/sample - loss: 36.7026 - val_loss: 44.8440\n",
      "Epoch 24/50\n",
      "1700/1700 [==============================] - 18s 10ms/sample - loss: 36.6896 - val_loss: 44.6300\n",
      "Epoch 25/50\n",
      "1700/1700 [==============================] - 18s 10ms/sample - loss: 36.6918 - val_loss: 44.9002\n",
      "Epoch 26/50\n",
      "1700/1700 [==============================] - 18s 10ms/sample - loss: 36.6978 - val_loss: 44.7842\n",
      "Epoch 27/50\n",
      "1700/1700 [==============================] - 18s 11ms/sample - loss: 36.6962 - val_loss: 44.7726\n",
      "Epoch 28/50\n",
      "1700/1700 [==============================] - 18s 10ms/sample - loss: 36.6985 - val_loss: 44.8188\n",
      "Epoch 29/50\n",
      "1700/1700 [==============================] - 18s 10ms/sample - loss: 36.6936 - val_loss: 45.1544\n",
      "Epoch 30/50\n",
      "1700/1700 [==============================] - 18s 11ms/sample - loss: 36.7248 - val_loss: 44.9849\n",
      "Epoch 31/50\n",
      "1700/1700 [==============================] - 18s 11ms/sample - loss: 36.6987 - val_loss: 44.9865\n",
      "Epoch 32/50\n",
      "1700/1700 [==============================] - 18s 10ms/sample - loss: 36.7062 - val_loss: 44.7945\n",
      "Epoch 33/50\n",
      "1700/1700 [==============================] - 18s 10ms/sample - loss: 36.6980 - val_loss: 44.7002\n",
      "Epoch 34/50\n",
      "1700/1700 [==============================] - 18s 10ms/sample - loss: 36.7057 - val_loss: 44.7395\n",
      "Epoch 35/50\n",
      "1700/1700 [==============================] - 18s 11ms/sample - loss: 36.7282 - val_loss: 44.7203\n",
      "Epoch 36/50\n",
      "1700/1700 [==============================] - 18s 11ms/sample - loss: 36.7085 - val_loss: 44.6823\n",
      "Epoch 37/50\n",
      "1700/1700 [==============================] - 18s 11ms/sample - loss: 36.7051 - val_loss: 45.1565\n",
      "Epoch 38/50\n",
      "1700/1700 [==============================] - 18s 10ms/sample - loss: 36.7142 - val_loss: 44.8831\n",
      "Epoch 39/50\n",
      "1700/1700 [==============================] - 18s 11ms/sample - loss: 36.6935 - val_loss: 45.0164\n",
      "Epoch 40/50\n",
      "1700/1700 [==============================] - 18s 10ms/sample - loss: 36.7739 - val_loss: 45.2527\n",
      "Epoch 41/50\n",
      "1700/1700 [==============================] - 18s 11ms/sample - loss: 36.7131 - val_loss: 45.0905\n",
      "Epoch 42/50\n",
      "1700/1700 [==============================] - 18s 11ms/sample - loss: 36.7296 - val_loss: 45.0456\n",
      "Epoch 43/50\n",
      "1700/1700 [==============================] - 18s 11ms/sample - loss: 36.7473 - val_loss: 44.1330\n",
      "Epoch 44/50\n",
      "1700/1700 [==============================] - 18s 11ms/sample - loss: 36.7876 - val_loss: 44.5834\n",
      "Epoch 45/50\n",
      "1700/1700 [==============================] - 18s 11ms/sample - loss: 36.7760 - val_loss: 44.3996\n",
      "Epoch 46/50\n",
      "1700/1700 [==============================] - 18s 11ms/sample - loss: 36.7649 - val_loss: 44.2550\n",
      "Epoch 47/50\n",
      "1700/1700 [==============================] - 18s 11ms/sample - loss: 36.7467 - val_loss: 44.7900\n",
      "Epoch 48/50\n",
      "1700/1700 [==============================] - 18s 10ms/sample - loss: 36.7585 - val_loss: 45.0452\n",
      "Epoch 49/50\n",
      "1700/1700 [==============================] - 18s 11ms/sample - loss: 36.7641 - val_loss: 45.0774\n",
      "Epoch 50/50\n",
      "1700/1700 [==============================] - 18s 11ms/sample - loss: 36.7090 - val_loss: 44.6362\n"
     ]
    },
    {
     "data": {
      "image/png": "[encoded data removed]",
      "text/plain": [
       "<Figure size 432x288 with 1 Axes>"
      ]
     },
     "metadata": {
      "needs_background": "light"
     },
     "output_type": "display_data"
    }
   ],
   "source": [
    "# Train RNN\n",
    "history = model.fit(train_X, train_y, epochs = 50, validation_data=(test_X, test_y))\n",
    "plt.plot(history.history['loss'], label='train')\n",
    "plt.plot(history.history['val_loss'], label='test')\n",
    "plt.legend()                  \n",
    "plt.show()"
   ]
  },
  {
   "cell_type": "code",
   "execution_count": 55,
   "metadata": {},
   "outputs": [],
   "source": [
    "# Calculating overall MSE for first model by making predicitons over all sequences in the test set.\n",
    "mses = []\n",
    "rel_mses = []\n",
    "for i in range(X_test.shape[0] - 24*6):\n",
    "    \n",
    "    speeds = np.zeros((24*18, 269))\n",
    "    speeds[:n_steps] = X_test[i]\n",
    "    yhats = np.zeros((24*6, 269))\n",
    "\n",
    "    for t in range(0,24*6):\n",
    "        x_input = speeds[t:t + n_steps]\n",
    "        x_input = x_input.reshape((1,n_steps, 269))\n",
    "        \n",
    "\n",
    "\n",
    "        yhat = model.predict(x_input, verbose=0)\n",
    "        yhats[t] = yhat\n",
    "        speeds[n_steps + t] = yhat\n",
    "        \n",
    "    y_v = y_test[i :i + 24*6].reshape(144*269,1)\n",
    "    yhats_v = yhats.reshape(144*269,1)\n",
    "    sum_of_squares = 0\n",
    "    rel_sos = 0\n",
    "    no_speed_records = 0\n",
    "    for j in range(len(yhats_v)):\n",
    "        sum_of_squares += (yhats_v[j] - y_v[j])**2\n",
    "        if y_v[j] == 0:\n",
    "            no_speed_records += 1\n",
    "        else:\n",
    "            rel_sos += ((yhats_v[j] - y_v[j])/y_v[j] )**2\n",
    "    mse = sum_of_squares/len(yhats_v)\n",
    "    mses.append(mse)\n",
    "    rel_mse = rel_sos /len(yhats_v - no_speed_records)\n",
    "    rel_mses.append(rel_mse)"
   ]
  },
  {
   "cell_type": "code",
   "execution_count": 56,
   "metadata": {},
   "outputs": [
    {
     "data": {
      "text/plain": [
       "38.84696964838412"
      ]
     },
     "execution_count": 56,
     "metadata": {},
     "output_type": "execute_result"
    }
   ],
   "source": [
    "np.mean(mses)"
   ]
  },
  {
   "cell_type": "code",
   "execution_count": 57,
   "metadata": {},
   "outputs": [
    {
     "data": {
      "text/plain": [
       "0.04953362807905142"
      ]
     },
     "execution_count": 57,
     "metadata": {},
     "output_type": "execute_result"
    }
   ],
   "source": [
    "np.mean(rel_mses)"
   ]
  },
  {
   "cell_type": "code",
   "execution_count": 58,
   "metadata": {},
   "outputs": [],
   "source": [
    "# Make predictions for one day to construct spatio-temporal image.\n",
    "\n",
    "speeds = np.zeros((24*18, 269))\n",
    "speeds[:n_steps] = X_test[0]\n",
    "yhats = np.zeros((24*6, 269))\n",
    "\n",
    "for t in range(0,24*6):\n",
    "    x_input = speeds[t:t + n_steps]\n",
    "    x_input = x_input.reshape((1,n_steps, 269))\n",
    "        \n",
    "    yhat = model.predict(x_input, verbose=0)\n",
    "    yhats[t] = yhat\n",
    "    speeds[n_steps + t] = yhat"
   ]
  },
  {
   "cell_type": "code",
   "execution_count": null,
   "metadata": {},
   "outputs": [],
   "source": [
    "# plot spatio-temporal image of predictions.\n",
    "fig=plt.figure(figsize=(10, 10))\n",
    "for r in range(0,len(roads)):\n",
    "    for t in range(0,24*6):\n",
    "        plt.plot(r,t,'rs', c= cm.jet(1 - yhats[t][r]/float(free_flows[r])), linewidth=3.0)\n",
    "img = plt.show()"
   ]
  },
  {
   "cell_type": "markdown",
   "metadata": {},
   "source": [
    "# 4 layer LSTM"
   ]
  },
  {
   "cell_type": "code",
   "execution_count": null,
   "metadata": {},
   "outputs": [],
   "source": [
    "# Define model\n",
    "model2 = tf.keras.Sequential()\n",
    "model2.add(LSTM(269, input_shape=(n_steps, 269), dropout = 0.2, recurrent_dropout = 0.2, return_sequences = True))\n",
    "model2.add(LSTM(269, input_shape=(n_steps, 269), dropout = 0.2, recurrent_dropout = 0.2, return_sequences = True))\n",
    "model2.add(LSTM(269, input_shape=(n_steps, 269), dropout = 0.2, recurrent_dropout = 0.2, return_sequences = True))\n",
    "model2.add(LSTM(269, input_shape=(n_steps, 269), dropout = 0.2, recurrent_dropout = 0.2))\n",
    "model2.add(Dense(269))\n",
    "model2.compile(loss='mean_squared_error', optimizer='adam')\n",
    "print(model2.summary())"
   ]
  },
  {
   "cell_type": "code",
   "execution_count": null,
   "metadata": {},
   "outputs": [],
   "source": [
    "# Model architecture\n",
    "\n",
    "tf.keras.utils.plot_model(model2, show_shapes = True)"
   ]
  },
  {
   "cell_type": "code",
   "execution_count": null,
   "metadata": {},
   "outputs": [],
   "source": [
    "# Train RNN\n",
    "\n",
    "history = model2.fit(train_X, train_y, epochs = 50, validation_data=(test_X, test_y))\n",
    "plt.plot(history.history['loss'], label='train')\n",
    "plt.plot(history.history['val_loss'], label='test')\n",
    "plt.legend()                  \n",
    "plt.show()"
   ]
  },
  {
   "cell_type": "code",
   "execution_count": null,
   "metadata": {},
   "outputs": [],
   "source": [
    "# Calculating overall MSE for second model by making predicitons over all sequences in the test set.\n",
    "mses2 = []\n",
    "rel_mses2 = []\n",
    "for i in range(X_test.shape[0] - 24*6):\n",
    "    \n",
    "    speeds = np.zeros((24*18, 269))\n",
    "    speeds[:n_steps] = X_test[i]\n",
    "    yhats = np.zeros((24*6, 269))\n",
    "\n",
    "    for t in range(0,24*6):\n",
    "        x_input = speeds[t:t + n_steps]\n",
    "        x_input = x_input.reshape((1,n_steps, 269))\n",
    "        \n",
    "\n",
    "\n",
    "        yhat = model2.predict(x_input, verbose=0)\n",
    "        yhats[t] = yhat\n",
    "        speeds[n_steps + t] = yhat\n",
    "        \n",
    "    y_v = y_test[i :i + 24*6].reshape(144*269,1)\n",
    "    yhats_v = yhats.reshape(144*269,1)\n",
    "    sum_of_squares = 0\n",
    "    rel_sos = 0\n",
    "    no_speed_records = 0\n",
    "    for j in range(len(yhats_v)):\n",
    "        sum_of_squares += (yhats_v[j] - y_v[j])**2\n",
    "        if y_v[j] == 0:\n",
    "            no_speed_records += 1\n",
    "        else:\n",
    "            rel_sos += ((yhats_v[j] - y_v[j])/y_v[j] )**2\n",
    "    mse = sum_of_squares/len(yhats_v)\n",
    "    mses2.append(mse)\n",
    "    rel_mse = rel_sos /len(yhats_v - no_speed_records)\n",
    "    rel_mses2.append(rel_mse)"
   ]
  },
  {
   "cell_type": "code",
   "execution_count": null,
   "metadata": {},
   "outputs": [],
   "source": [
    "# Make predictions for one day to construct spatio-temporal image.\n",
    "\n",
    "speeds2 = np.zeros((24*18, 269))\n",
    "speeds2[:n_steps] = X_test[0]\n",
    "yhats2 = np.zeros((24*6, 269))\n",
    "\n",
    "for t in range(0,24*6):\n",
    "    x_input = speeds[t:t + n_steps]\n",
    "    x_input = x_input.reshape((1,n_steps, 269))\n",
    "        \n",
    "    yhat = model2.predict(x_input, verbose=0)\n",
    "    yhats2[t] = yhat\n",
    "    speeds2[n_steps + t] = yhat"
   ]
  },
  {
   "cell_type": "code",
   "execution_count": null,
   "metadata": {},
   "outputs": [],
   "source": [
    "# plot spatio-temporal image of predictions.\n",
    "\n",
    "fig=plt.figure(figsize=(10, 10))\n",
    "for r in range(0,269):\n",
    "    for t in range(0,24*12):\n",
    "        plt.plot(r,t,'rs', c= cm.jet(1 - yhats2[0][t][r]/float(free_flows[:269][r])), linewidth=3.0)\n",
    "img = plt.show()"
   ]
  },
  {
   "cell_type": "code",
   "execution_count": null,
   "metadata": {},
   "outputs": [],
   "source": []
  },
  {
   "cell_type": "code",
   "execution_count": null,
   "metadata": {},
   "outputs": [],
   "source": []
  },
  {
   "cell_type": "markdown",
   "metadata": {},
   "source": [
    "# 6 layer LSTM"
   ]
  },
  {
   "cell_type": "code",
   "execution_count": null,
   "metadata": {},
   "outputs": [],
   "source": [
    "# define model\n",
    "model3 = tf.keras.Sequential()\n",
    "model3.add(LSTM(269, input_shape=(n_steps, 269), dropout = 0.2, recurrent_dropout = 0.2, return_sequences = True))\n",
    "model3.add(LSTM(269, input_shape=(n_steps, 269), dropout = 0.2, recurrent_dropout = 0.2, return_sequences = True))\n",
    "model3.add(LSTM(269, input_shape=(n_steps, 269), dropout = 0.2, recurrent_dropout = 0.2, return_sequences = True))\n",
    "model3.add(LSTM(269, input_shape=(n_steps, 269), dropout = 0.2, recurrent_dropout = 0.2, return_sequences = True))\n",
    "model3.add(LSTM(269, input_shape=(n_steps, 269), dropout = 0.2, recurrent_dropout = 0.2, return_sequences = True))\n",
    "model3.add(LSTM(269, input_shape=(n_steps, 269), dropout = 0.2, recurrent_dropout = 0.2))\n",
    "model3.add(Dense(269))\n",
    "model3.compile(loss='mean_squared_error', optimizer='adam')\n",
    "print(model3.summary())"
   ]
  },
  {
   "cell_type": "code",
   "execution_count": null,
   "metadata": {},
   "outputs": [],
   "source": [
    "# Model architecture\n",
    "\n",
    "tf.keras.utils.plot_model(model3, show_shapes = True)"
   ]
  },
  {
   "cell_type": "code",
   "execution_count": null,
   "metadata": {},
   "outputs": [],
   "source": [
    "# train model\n",
    "\n",
    "history = model3.fit(train_X, train_y, epochs = 50, validation_data=(test_X, test_y))\n",
    "plt.plot(history.history['loss'], label='train')\n",
    "plt.plot(history.history['val_loss'], label='test')\n",
    "plt.legend()                  \n",
    "plt.show()"
   ]
  },
  {
   "cell_type": "code",
   "execution_count": null,
   "metadata": {},
   "outputs": [],
   "source": [
    "# Calculating overall MSE for third model by making predicitons over all sequences in the test set.\n",
    "\n",
    "mses3 = []\n",
    "rel_mses3 = []\n",
    "for i in range(X_test.shape[0] - 24*6):\n",
    "    \n",
    "    speeds = np.zeros((24*18, 269))\n",
    "    speeds[:n_steps] = X_test[i]\n",
    "    yhats = np.zeros((24*6, 269))\n",
    "\n",
    "    for t in range(0,24*6):\n",
    "        x_input = speeds[t:t + n_steps]\n",
    "        x_input = x_input.reshape((1,n_steps, 269))\n",
    "        \n",
    "\n",
    "\n",
    "        yhat = model3.predict(x_input, verbose=0)\n",
    "        yhats[t] = yhat\n",
    "        speeds[n_steps + t] = yhat\n",
    "        \n",
    "    y_v = y_test[i :i + 24*6].reshape(144*269,1)\n",
    "    yhats_v = yhats.reshape(144*269,1)\n",
    "    sum_of_squares = 0\n",
    "    rel_sos = 0\n",
    "    no_speed_records = 0\n",
    "    for j in range(len(yhats_v)):\n",
    "        sum_of_squares += (yhats_v[j] - y_v[j])**2\n",
    "        if y_v[j] == 0:\n",
    "            no_speed_records += 1\n",
    "        else:\n",
    "            rel_sos += ((yhats_v[j] - y_v[j])/y_v[j] )**2\n",
    "    mse = sum_of_squares/len(yhats_v)\n",
    "    mses3.append(mse)\n",
    "    rel_mse = rel_sos /len(yhats_v - no_speed_records)\n",
    "    rel_mses3.append(rel_mse)"
   ]
  },
  {
   "cell_type": "code",
   "execution_count": null,
   "metadata": {},
   "outputs": [],
   "source": [
    "# Make predictions for next 24 hours to plot spatio-temporal image.\n",
    "\n",
    "speeds3 = np.zeros((24*18, 269))\n",
    "speeds3[:n_steps] = X_test[0]\n",
    "yhats3 = np.zeros((24*6, 269))\n",
    "\n",
    "for t in range(0,24*6):\n",
    "    x_input = speeds[t:t + n_steps]\n",
    "    x_input = x_input.reshape((1,n_steps, 269))\n",
    "        \n",
    "\n",
    "\n",
    "    yhat = model3.predict(x_input, verbose=0)\n",
    "    yhats3[t] = yhat\n",
    "    speeds3[n_steps + t] = yhat\n",
    "        "
   ]
  },
  {
   "cell_type": "code",
   "execution_count": null,
   "metadata": {},
   "outputs": [],
   "source": [
    "# plot spatio-temporal image of predictions.\n",
    "\n",
    "fig=plt.figure(figsize=(10, 10))\n",
    "for r in range(0,269):\n",
    "    for t in range(0,24*12):\n",
    "        plt.plot(r,t,'rs', c= cm.jet(1 - yhats3[0][t][r]/float(free_flows[r])), linewidth=3.0)\n",
    "img = plt.show()"
   ]
  },
  {
   "cell_type": "code",
   "execution_count": null,
   "metadata": {},
   "outputs": [],
   "source": []
  },
  {
   "cell_type": "code",
   "execution_count": null,
   "metadata": {},
   "outputs": [],
   "source": []
  },
  {
   "cell_type": "code",
   "execution_count": null,
   "metadata": {},
   "outputs": [],
   "source": []
  },
  {
   "cell_type": "code",
   "execution_count": null,
   "metadata": {},
   "outputs": [],
   "source": []
  },
  {
   "cell_type": "code",
   "execution_count": null,
   "metadata": {},
   "outputs": [],
   "source": []
  },
  {
   "cell_type": "code",
   "execution_count": null,
   "metadata": {},
   "outputs": [],
   "source": []
  },
  {
   "cell_type": "code",
   "execution_count": null,
   "metadata": {},
   "outputs": [],
   "source": []
  },
  {
   "cell_type": "code",
   "execution_count": null,
   "metadata": {},
   "outputs": [],
   "source": []
  },
  {
   "cell_type": "code",
   "execution_count": null,
   "metadata": {},
   "outputs": [],
   "source": []
  },
  {
   "cell_type": "code",
   "execution_count": null,
   "metadata": {},
   "outputs": [],
   "source": []
  },
  {
   "cell_type": "code",
   "execution_count": null,
   "metadata": {},
   "outputs": [],
   "source": []
  },
  {
   "cell_type": "code",
   "execution_count": null,
   "metadata": {},
   "outputs": [],
   "source": []
  },
  {
   "cell_type": "code",
   "execution_count": null,
   "metadata": {},
   "outputs": [],
   "source": []
  },
  {
   "cell_type": "code",
   "execution_count": null,
   "metadata": {},
   "outputs": [],
   "source": []
  },
  {
   "cell_type": "code",
   "execution_count": null,
   "metadata": {},
   "outputs": [],
   "source": []
  },
  {
   "cell_type": "code",
   "execution_count": null,
   "metadata": {},
   "outputs": [],
   "source": []
  }
 ],
 "metadata": {
  "kernelspec": {
   "display_name": "Python 3",
   "language": "python",
   "name": "python3"
  },
  "language_info": {
   "codemirror_mode": {
    "name": "ipython",
    "version": 3
   },
   "file_extension": ".py",
   "mimetype": "text/x-python",
   "name": "python",
   "nbconvert_exporter": "python",
   "pygments_lexer": "ipython3",
   "version": "3.7.4"
  }
 },
 "nbformat": 4,
 "nbformat_minor": 2
}
